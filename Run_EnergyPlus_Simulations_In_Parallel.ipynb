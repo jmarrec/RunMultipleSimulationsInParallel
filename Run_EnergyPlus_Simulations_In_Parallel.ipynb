{
 "cells": [
  {
   "cell_type": "code",
   "execution_count": 1,
   "metadata": {},
   "outputs": [],
   "source": [
    "import os\n",
    "import multiprocessing\n",
    "import shlex\n",
    "import subprocess\n",
    "import glob as gb\n",
    "from itertools import product\n",
    "\n",
    "# Optional: `pip install tqdm` => print a progress bar\n",
    "import tqdm"
   ]
  },
  {
   "cell_type": "code",
   "execution_count": 2,
   "metadata": {},
   "outputs": [],
   "source": [
    "ROOT_DIR = '.'\n",
    "OUT_DIR = os.path.join(ROOT_DIR, 'Simulations')\n",
    "if not os.path.exists(OUT_DIR):\n",
    "    os.makedirs(OUT_DIR)"
   ]
  },
  {
   "cell_type": "code",
   "execution_count": 3,
   "metadata": {},
   "outputs": [
    {
     "data": {
      "text/plain": [
       "['./1ZoneUncontrolled.idf', './1ZoneUncontrolled3SurfaceZone.idf']"
      ]
     },
     "execution_count": 3,
     "metadata": {},
     "output_type": "execute_result"
    }
   ],
   "source": [
    "idfs = gb.glob(os.path.join(ROOT_DIR, '*.idf'))\n",
    "idfs"
   ]
  },
  {
   "cell_type": "code",
   "execution_count": 4,
   "metadata": {},
   "outputs": [
    {
     "data": {
      "text/plain": [
       "['./USA_CA_San.Francisco.Intl.AP.724940_TMY3.epw',\n",
       " './USA_IL_Chicago-OHare.Intl.AP.725300_TMY3.epw',\n",
       " './USA_CO_Golden-NREL.724666_TMY3.epw']"
      ]
     },
     "execution_count": 4,
     "metadata": {},
     "output_type": "execute_result"
    }
   ],
   "source": [
    "epws = gb.glob(os.path.join(ROOT_DIR, '*.epw'))\n",
    "epws"
   ]
  },
  {
   "cell_type": "code",
   "execution_count": 5,
   "metadata": {},
   "outputs": [],
   "source": [
    "def run_single_simulation(args):\n",
    "    \"\"\"\n",
    "    Gets a tuple of arguments, eg: (file1.idf, weather.epw)\n",
    "    \"\"\"\n",
    "    idf_path = os.path.relpath(args[0], ROOT_DIR)\n",
    "    epw_path = os.path.relpath(args[1], ROOT_DIR)\n",
    "\n",
    "    idf, idf_ext = os.path.splitext(idf_path)\n",
    "    epw, epw_ext = os.path.splitext(epw_path)\n",
    "\n",
    "\n",
    "    out_dir = os.path.join(OUT_DIR, \"{}_-_{}\".format(idf, epw)) \n",
    "\n",
    "    # Make a subdirectory\n",
    "    if not os.path.exists(out_dir):\n",
    "        os.makedirs(out_dir)\n",
    "\n",
    "        \n",
    "    cmd = f\"energyplus -w {epw_path} -d {out_dir} {idf_path}\"\n",
    "    res = subprocess.run(shlex.split(cmd), capture_output=True)\n",
    "    if res.returncode != 0:\n",
    "        print(\"Simulation failed for {idf_path} / {epw_path}\")\n",
    "        print(res.stdout.decode())\n",
    "        print(res.stderr.decode())\n",
    "        print(\"\\n\\n\")"
   ]
  },
  {
   "cell_type": "code",
   "execution_count": 6,
   "metadata": {},
   "outputs": [
    {
     "name": "stdout",
     "output_type": "stream",
     "text": [
      "Running with 16 threads\n",
      "There are 6 simulations to run\n"
     ]
    },
    {
     "data": {
      "text/plain": [
       "[('./1ZoneUncontrolled.idf', './USA_CA_San.Francisco.Intl.AP.724940_TMY3.epw'),\n",
       " ('./1ZoneUncontrolled.idf', './USA_IL_Chicago-OHare.Intl.AP.725300_TMY3.epw'),\n",
       " ('./1ZoneUncontrolled.idf', './USA_CO_Golden-NREL.724666_TMY3.epw'),\n",
       " ('./1ZoneUncontrolled3SurfaceZone.idf',\n",
       "  './USA_CA_San.Francisco.Intl.AP.724940_TMY3.epw'),\n",
       " ('./1ZoneUncontrolled3SurfaceZone.idf',\n",
       "  './USA_IL_Chicago-OHare.Intl.AP.725300_TMY3.epw'),\n",
       " ('./1ZoneUncontrolled3SurfaceZone.idf',\n",
       "  './USA_CO_Golden-NREL.724666_TMY3.epw')]"
      ]
     },
     "execution_count": 6,
     "metadata": {},
     "output_type": "execute_result"
    }
   ],
   "source": [
    "# Defaults to run on all threads\n",
    "N = multiprocessing.cpu_count()\n",
    "# You can override it to run only on a few threads\n",
    "# N = 4\n",
    "print(f\"Running with {N} threads\")\n",
    "\n",
    "all_cases = list(product(idfs, epws))\n",
    "\n",
    "print(f\"There are {len(all_cases)} simulations to run\")\n",
    "all_cases"
   ]
  },
  {
   "cell_type": "code",
   "execution_count": 7,
   "metadata": {},
   "outputs": [
    {
     "name": "stderr",
     "output_type": "stream",
     "text": [
      "100%|██████████| 6/6 [00:01<00:00,  3.69it/s]\n"
     ]
    }
   ],
   "source": [
    "with multiprocessing.Pool(processes=N) as pool:\n",
    "    for _ in tqdm.tqdm(pool.imap_unordered(run_single_simulation,\n",
    "                                           all_cases),\n",
    "                       total=len(all_cases)):\n",
    "        pass"
   ]
  }
 ],
 "metadata": {
  "kernelspec": {
   "display_name": "Python 3",
   "language": "python",
   "name": "python3"
  },
  "language_info": {
   "codemirror_mode": {
    "name": "ipython",
    "version": 3
   },
   "file_extension": ".py",
   "mimetype": "text/x-python",
   "name": "python",
   "nbconvert_exporter": "python",
   "pygments_lexer": "ipython3",
   "version": "3.8.3"
  },
  "toc": {
   "base_numbering": 1,
   "nav_menu": {},
   "number_sections": true,
   "sideBar": true,
   "skip_h1_title": false,
   "title_cell": "Table of Contents",
   "title_sidebar": "Contents",
   "toc_cell": false,
   "toc_position": {},
   "toc_section_display": true,
   "toc_window_display": false
  }
 },
 "nbformat": 4,
 "nbformat_minor": 4
}
